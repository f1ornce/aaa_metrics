{
 "cells": [
  {
   "cell_type": "code",
   "execution_count": 85,
   "metadata": {},
   "outputs": [],
   "source": [
    "import matplotlib.pyplot as plt\n",
    "import pandas as pd\n",
    "import numpy as np"
   ]
  },
  {
   "cell_type": "code",
   "execution_count": 89,
   "metadata": {},
   "outputs": [],
   "source": [
    "df_orders = pd.read_csv('orders.csv')\n",
    "df_orders['order_month'] = pd.to_datetime(df_orders.order_date).dt.to_period(\"m\")\n",
    "df_orders['order_year'] = pd.to_datetime(df_orders.order_date).dt.to_period(\"y\")\n",
    "df_orders['order_month'] = df_orders['order_month'].astype(str)\n",
    "df_orders['order_year'] = df_orders['order_year'].astype(str)"
   ]
  },
  {
   "cell_type": "code",
   "execution_count": 90,
   "metadata": {},
   "outputs": [],
   "source": [
    "df_customers = pd.read_csv('customers.csv')\n",
    "cols = ['customer_id']\n",
    "cols.extend(df_customers.columns[1:])\n",
    "df_customers.columns = cols"
   ]
  },
  {
   "cell_type": "code",
   "execution_count": 121,
   "metadata": {},
   "outputs": [
    {
     "data": {
      "text/plain": "       id order_date ship_mode customer_id    sales order_month order_year\n0  100006   9/7/2014  Standard    DK-13375  377.970     2014-09       2014\n1  100090   7/8/2014  Standard    EB-13705  699.192     2014-07       2014\n2  100293  3/14/2014  Standard    NF-18475   91.056     2014-03       2014\n3  100328  1/28/2014  Standard    JC-15340    3.928     2014-01       2014\n4  100363   4/8/2014  Standard    JM-15655   21.376     2014-04       2014",
      "text/html": "<div>\n<style scoped>\n    .dataframe tbody tr th:only-of-type {\n        vertical-align: middle;\n    }\n\n    .dataframe tbody tr th {\n        vertical-align: top;\n    }\n\n    .dataframe thead th {\n        text-align: right;\n    }\n</style>\n<table border=\"1\" class=\"dataframe\">\n  <thead>\n    <tr style=\"text-align: right;\">\n      <th></th>\n      <th>id</th>\n      <th>order_date</th>\n      <th>ship_mode</th>\n      <th>customer_id</th>\n      <th>sales</th>\n      <th>order_month</th>\n      <th>order_year</th>\n    </tr>\n  </thead>\n  <tbody>\n    <tr>\n      <th>0</th>\n      <td>100006</td>\n      <td>9/7/2014</td>\n      <td>Standard</td>\n      <td>DK-13375</td>\n      <td>377.970</td>\n      <td>2014-09</td>\n      <td>2014</td>\n    </tr>\n    <tr>\n      <th>1</th>\n      <td>100090</td>\n      <td>7/8/2014</td>\n      <td>Standard</td>\n      <td>EB-13705</td>\n      <td>699.192</td>\n      <td>2014-07</td>\n      <td>2014</td>\n    </tr>\n    <tr>\n      <th>2</th>\n      <td>100293</td>\n      <td>3/14/2014</td>\n      <td>Standard</td>\n      <td>NF-18475</td>\n      <td>91.056</td>\n      <td>2014-03</td>\n      <td>2014</td>\n    </tr>\n    <tr>\n      <th>3</th>\n      <td>100328</td>\n      <td>1/28/2014</td>\n      <td>Standard</td>\n      <td>JC-15340</td>\n      <td>3.928</td>\n      <td>2014-01</td>\n      <td>2014</td>\n    </tr>\n    <tr>\n      <th>4</th>\n      <td>100363</td>\n      <td>4/8/2014</td>\n      <td>Standard</td>\n      <td>JM-15655</td>\n      <td>21.376</td>\n      <td>2014-04</td>\n      <td>2014</td>\n    </tr>\n  </tbody>\n</table>\n</div>"
     },
     "execution_count": 121,
     "metadata": {},
     "output_type": "execute_result"
    }
   ],
   "source": [
    "df_orders.head()"
   ]
  },
  {
   "cell_type": "code",
   "execution_count": 122,
   "metadata": {},
   "outputs": [
    {
     "data": {
      "text/plain": "  customer_id             name    segment           state             city\n0    CG-12520      Claire Gute   Consumer        Kentucky        Henderson\n1    DV-13045  Darrin Van Huff  Corporate      California      Los Angeles\n2    SO-20335   Sean O'Donnell   Consumer         Florida  Fort Lauderdale\n3    BH-11710  Brosina Hoffman   Consumer      California      Los Angeles\n4    AA-10480     Andrew Allen   Consumer  North Carolina          Concord",
      "text/html": "<div>\n<style scoped>\n    .dataframe tbody tr th:only-of-type {\n        vertical-align: middle;\n    }\n\n    .dataframe tbody tr th {\n        vertical-align: top;\n    }\n\n    .dataframe thead th {\n        text-align: right;\n    }\n</style>\n<table border=\"1\" class=\"dataframe\">\n  <thead>\n    <tr style=\"text-align: right;\">\n      <th></th>\n      <th>customer_id</th>\n      <th>name</th>\n      <th>segment</th>\n      <th>state</th>\n      <th>city</th>\n    </tr>\n  </thead>\n  <tbody>\n    <tr>\n      <th>0</th>\n      <td>CG-12520</td>\n      <td>Claire Gute</td>\n      <td>Consumer</td>\n      <td>Kentucky</td>\n      <td>Henderson</td>\n    </tr>\n    <tr>\n      <th>1</th>\n      <td>DV-13045</td>\n      <td>Darrin Van Huff</td>\n      <td>Corporate</td>\n      <td>California</td>\n      <td>Los Angeles</td>\n    </tr>\n    <tr>\n      <th>2</th>\n      <td>SO-20335</td>\n      <td>Sean O'Donnell</td>\n      <td>Consumer</td>\n      <td>Florida</td>\n      <td>Fort Lauderdale</td>\n    </tr>\n    <tr>\n      <th>3</th>\n      <td>BH-11710</td>\n      <td>Brosina Hoffman</td>\n      <td>Consumer</td>\n      <td>California</td>\n      <td>Los Angeles</td>\n    </tr>\n    <tr>\n      <th>4</th>\n      <td>AA-10480</td>\n      <td>Andrew Allen</td>\n      <td>Consumer</td>\n      <td>North Carolina</td>\n      <td>Concord</td>\n    </tr>\n  </tbody>\n</table>\n</div>"
     },
     "execution_count": 122,
     "metadata": {},
     "output_type": "execute_result"
    }
   ],
   "source": [
    "df_customers.head()"
   ]
  },
  {
   "cell_type": "code",
   "execution_count": 93,
   "metadata": {},
   "outputs": [],
   "source": [
    "df_merge = pd.merge(df_orders, df_customers, 'inner', on='customer_id')"
   ]
  },
  {
   "cell_type": "code",
   "execution_count": 123,
   "metadata": {},
   "outputs": [
    {
     "data": {
      "text/plain": "       id  order_date ship_mode customer_id    sales order_month order_year  \\\n0  100006    9/7/2014  Standard    DK-13375  377.970     2014-09       2014   \n1  131884   12/6/2015  Same Day    DK-13375  594.002     2015-12       2015   \n2  145065  12/12/2015     First    DK-13375   32.308     2015-12       2015   \n3  133046   7/27/2017    Second    DK-13375  297.990     2017-07       2017   \n4  165099  12/11/2017     First    DK-13375    1.392     2017-12       2017   \n\n          name   segment state    city  \n0  Dennis Kane  Consumer  Ohio  Marion  \n1  Dennis Kane  Consumer  Ohio  Marion  \n2  Dennis Kane  Consumer  Ohio  Marion  \n3  Dennis Kane  Consumer  Ohio  Marion  \n4  Dennis Kane  Consumer  Ohio  Marion  ",
      "text/html": "<div>\n<style scoped>\n    .dataframe tbody tr th:only-of-type {\n        vertical-align: middle;\n    }\n\n    .dataframe tbody tr th {\n        vertical-align: top;\n    }\n\n    .dataframe thead th {\n        text-align: right;\n    }\n</style>\n<table border=\"1\" class=\"dataframe\">\n  <thead>\n    <tr style=\"text-align: right;\">\n      <th></th>\n      <th>id</th>\n      <th>order_date</th>\n      <th>ship_mode</th>\n      <th>customer_id</th>\n      <th>sales</th>\n      <th>order_month</th>\n      <th>order_year</th>\n      <th>name</th>\n      <th>segment</th>\n      <th>state</th>\n      <th>city</th>\n    </tr>\n  </thead>\n  <tbody>\n    <tr>\n      <th>0</th>\n      <td>100006</td>\n      <td>9/7/2014</td>\n      <td>Standard</td>\n      <td>DK-13375</td>\n      <td>377.970</td>\n      <td>2014-09</td>\n      <td>2014</td>\n      <td>Dennis Kane</td>\n      <td>Consumer</td>\n      <td>Ohio</td>\n      <td>Marion</td>\n    </tr>\n    <tr>\n      <th>1</th>\n      <td>131884</td>\n      <td>12/6/2015</td>\n      <td>Same Day</td>\n      <td>DK-13375</td>\n      <td>594.002</td>\n      <td>2015-12</td>\n      <td>2015</td>\n      <td>Dennis Kane</td>\n      <td>Consumer</td>\n      <td>Ohio</td>\n      <td>Marion</td>\n    </tr>\n    <tr>\n      <th>2</th>\n      <td>145065</td>\n      <td>12/12/2015</td>\n      <td>First</td>\n      <td>DK-13375</td>\n      <td>32.308</td>\n      <td>2015-12</td>\n      <td>2015</td>\n      <td>Dennis Kane</td>\n      <td>Consumer</td>\n      <td>Ohio</td>\n      <td>Marion</td>\n    </tr>\n    <tr>\n      <th>3</th>\n      <td>133046</td>\n      <td>7/27/2017</td>\n      <td>Second</td>\n      <td>DK-13375</td>\n      <td>297.990</td>\n      <td>2017-07</td>\n      <td>2017</td>\n      <td>Dennis Kane</td>\n      <td>Consumer</td>\n      <td>Ohio</td>\n      <td>Marion</td>\n    </tr>\n    <tr>\n      <th>4</th>\n      <td>165099</td>\n      <td>12/11/2017</td>\n      <td>First</td>\n      <td>DK-13375</td>\n      <td>1.392</td>\n      <td>2017-12</td>\n      <td>2017</td>\n      <td>Dennis Kane</td>\n      <td>Consumer</td>\n      <td>Ohio</td>\n      <td>Marion</td>\n    </tr>\n  </tbody>\n</table>\n</div>"
     },
     "execution_count": 123,
     "metadata": {},
     "output_type": "execute_result"
    }
   ],
   "source": [
    "df_merge.head()"
   ]
  },
  {
   "cell_type": "code",
   "execution_count": 95,
   "metadata": {},
   "outputs": [],
   "source": [
    "df_first = df_merge.groupby('customer_id')['order_year'].min().reset_index()\n",
    "df_first.columns = ['customer_id', 'first_order']"
   ]
  },
  {
   "cell_type": "code",
   "execution_count": 124,
   "metadata": {},
   "outputs": [
    {
     "data": {
      "text/plain": "  customer_id first_order\n0    AA-10315        2014\n1    AA-10375        2014\n2    AA-10480        2014\n3    AA-10645        2014\n4    AB-10015        2014",
      "text/html": "<div>\n<style scoped>\n    .dataframe tbody tr th:only-of-type {\n        vertical-align: middle;\n    }\n\n    .dataframe tbody tr th {\n        vertical-align: top;\n    }\n\n    .dataframe thead th {\n        text-align: right;\n    }\n</style>\n<table border=\"1\" class=\"dataframe\">\n  <thead>\n    <tr style=\"text-align: right;\">\n      <th></th>\n      <th>customer_id</th>\n      <th>first_order</th>\n    </tr>\n  </thead>\n  <tbody>\n    <tr>\n      <th>0</th>\n      <td>AA-10315</td>\n      <td>2014</td>\n    </tr>\n    <tr>\n      <th>1</th>\n      <td>AA-10375</td>\n      <td>2014</td>\n    </tr>\n    <tr>\n      <th>2</th>\n      <td>AA-10480</td>\n      <td>2014</td>\n    </tr>\n    <tr>\n      <th>3</th>\n      <td>AA-10645</td>\n      <td>2014</td>\n    </tr>\n    <tr>\n      <th>4</th>\n      <td>AB-10015</td>\n      <td>2014</td>\n    </tr>\n  </tbody>\n</table>\n</div>"
     },
     "execution_count": 124,
     "metadata": {},
     "output_type": "execute_result"
    }
   ],
   "source": [
    "df_first.head()"
   ]
  },
  {
   "cell_type": "code",
   "execution_count": 97,
   "metadata": {},
   "outputs": [],
   "source": [
    "df_full = pd.merge(df_merge, df_first, 'inner', on='customer_id')"
   ]
  },
  {
   "cell_type": "code",
   "execution_count": 125,
   "metadata": {},
   "outputs": [
    {
     "data": {
      "text/plain": "       id  order_date ship_mode customer_id    sales order_month order_year  \\\n0  100006    9/7/2014  Standard    DK-13375  377.970     2014-09       2014   \n1  131884   12/6/2015  Same Day    DK-13375  594.002     2015-12       2015   \n2  145065  12/12/2015     First    DK-13375   32.308     2015-12       2015   \n3  133046   7/27/2017    Second    DK-13375  297.990     2017-07       2017   \n4  165099  12/11/2017     First    DK-13375    1.392     2017-12       2017   \n\n          name   segment state    city first_order  \n0  Dennis Kane  Consumer  Ohio  Marion        2014  \n1  Dennis Kane  Consumer  Ohio  Marion        2014  \n2  Dennis Kane  Consumer  Ohio  Marion        2014  \n3  Dennis Kane  Consumer  Ohio  Marion        2014  \n4  Dennis Kane  Consumer  Ohio  Marion        2014  ",
      "text/html": "<div>\n<style scoped>\n    .dataframe tbody tr th:only-of-type {\n        vertical-align: middle;\n    }\n\n    .dataframe tbody tr th {\n        vertical-align: top;\n    }\n\n    .dataframe thead th {\n        text-align: right;\n    }\n</style>\n<table border=\"1\" class=\"dataframe\">\n  <thead>\n    <tr style=\"text-align: right;\">\n      <th></th>\n      <th>id</th>\n      <th>order_date</th>\n      <th>ship_mode</th>\n      <th>customer_id</th>\n      <th>sales</th>\n      <th>order_month</th>\n      <th>order_year</th>\n      <th>name</th>\n      <th>segment</th>\n      <th>state</th>\n      <th>city</th>\n      <th>first_order</th>\n    </tr>\n  </thead>\n  <tbody>\n    <tr>\n      <th>0</th>\n      <td>100006</td>\n      <td>9/7/2014</td>\n      <td>Standard</td>\n      <td>DK-13375</td>\n      <td>377.970</td>\n      <td>2014-09</td>\n      <td>2014</td>\n      <td>Dennis Kane</td>\n      <td>Consumer</td>\n      <td>Ohio</td>\n      <td>Marion</td>\n      <td>2014</td>\n    </tr>\n    <tr>\n      <th>1</th>\n      <td>131884</td>\n      <td>12/6/2015</td>\n      <td>Same Day</td>\n      <td>DK-13375</td>\n      <td>594.002</td>\n      <td>2015-12</td>\n      <td>2015</td>\n      <td>Dennis Kane</td>\n      <td>Consumer</td>\n      <td>Ohio</td>\n      <td>Marion</td>\n      <td>2014</td>\n    </tr>\n    <tr>\n      <th>2</th>\n      <td>145065</td>\n      <td>12/12/2015</td>\n      <td>First</td>\n      <td>DK-13375</td>\n      <td>32.308</td>\n      <td>2015-12</td>\n      <td>2015</td>\n      <td>Dennis Kane</td>\n      <td>Consumer</td>\n      <td>Ohio</td>\n      <td>Marion</td>\n      <td>2014</td>\n    </tr>\n    <tr>\n      <th>3</th>\n      <td>133046</td>\n      <td>7/27/2017</td>\n      <td>Second</td>\n      <td>DK-13375</td>\n      <td>297.990</td>\n      <td>2017-07</td>\n      <td>2017</td>\n      <td>Dennis Kane</td>\n      <td>Consumer</td>\n      <td>Ohio</td>\n      <td>Marion</td>\n      <td>2014</td>\n    </tr>\n    <tr>\n      <th>4</th>\n      <td>165099</td>\n      <td>12/11/2017</td>\n      <td>First</td>\n      <td>DK-13375</td>\n      <td>1.392</td>\n      <td>2017-12</td>\n      <td>2017</td>\n      <td>Dennis Kane</td>\n      <td>Consumer</td>\n      <td>Ohio</td>\n      <td>Marion</td>\n      <td>2014</td>\n    </tr>\n  </tbody>\n</table>\n</div>"
     },
     "execution_count": 125,
     "metadata": {},
     "output_type": "execute_result"
    }
   ],
   "source": [
    "df_full.head()"
   ]
  },
  {
   "cell_type": "code",
   "execution_count": 99,
   "metadata": {},
   "outputs": [],
   "source": [
    "df_users = df_full.groupby(['customer_id', 'first_order', 'order_year'])\\\n",
    "    .agg({'sales':'sum', 'id':'count'}).reset_index()"
   ]
  },
  {
   "cell_type": "code",
   "execution_count": 100,
   "metadata": {},
   "outputs": [
    {
     "data": {
      "text/plain": "     customer_id first_order order_year     sales  id\n0       AA-10315        2014       2014   756.048   2\n1       AA-10315        2014       2015    26.960   1\n2       AA-10315        2014       2016  4406.072   1\n3       AA-10315        2014       2017   374.480   1\n4       AA-10375        2014       2014    50.792   2\n...          ...         ...        ...       ...  ..\n2494    ZC-21910        2014       2016  3215.733   3\n2495    ZC-21910        2014       2017   227.066   4\n2496    ZD-21925        2014       2014   244.760   1\n2497    ZD-21925        2014       2016  1187.744   3\n2498    ZD-21925        2014       2017    61.440   1\n\n[2499 rows x 5 columns]",
      "text/html": "<div>\n<style scoped>\n    .dataframe tbody tr th:only-of-type {\n        vertical-align: middle;\n    }\n\n    .dataframe tbody tr th {\n        vertical-align: top;\n    }\n\n    .dataframe thead th {\n        text-align: right;\n    }\n</style>\n<table border=\"1\" class=\"dataframe\">\n  <thead>\n    <tr style=\"text-align: right;\">\n      <th></th>\n      <th>customer_id</th>\n      <th>first_order</th>\n      <th>order_year</th>\n      <th>sales</th>\n      <th>id</th>\n    </tr>\n  </thead>\n  <tbody>\n    <tr>\n      <th>0</th>\n      <td>AA-10315</td>\n      <td>2014</td>\n      <td>2014</td>\n      <td>756.048</td>\n      <td>2</td>\n    </tr>\n    <tr>\n      <th>1</th>\n      <td>AA-10315</td>\n      <td>2014</td>\n      <td>2015</td>\n      <td>26.960</td>\n      <td>1</td>\n    </tr>\n    <tr>\n      <th>2</th>\n      <td>AA-10315</td>\n      <td>2014</td>\n      <td>2016</td>\n      <td>4406.072</td>\n      <td>1</td>\n    </tr>\n    <tr>\n      <th>3</th>\n      <td>AA-10315</td>\n      <td>2014</td>\n      <td>2017</td>\n      <td>374.480</td>\n      <td>1</td>\n    </tr>\n    <tr>\n      <th>4</th>\n      <td>AA-10375</td>\n      <td>2014</td>\n      <td>2014</td>\n      <td>50.792</td>\n      <td>2</td>\n    </tr>\n    <tr>\n      <th>...</th>\n      <td>...</td>\n      <td>...</td>\n      <td>...</td>\n      <td>...</td>\n      <td>...</td>\n    </tr>\n    <tr>\n      <th>2494</th>\n      <td>ZC-21910</td>\n      <td>2014</td>\n      <td>2016</td>\n      <td>3215.733</td>\n      <td>3</td>\n    </tr>\n    <tr>\n      <th>2495</th>\n      <td>ZC-21910</td>\n      <td>2014</td>\n      <td>2017</td>\n      <td>227.066</td>\n      <td>4</td>\n    </tr>\n    <tr>\n      <th>2496</th>\n      <td>ZD-21925</td>\n      <td>2014</td>\n      <td>2014</td>\n      <td>244.760</td>\n      <td>1</td>\n    </tr>\n    <tr>\n      <th>2497</th>\n      <td>ZD-21925</td>\n      <td>2014</td>\n      <td>2016</td>\n      <td>1187.744</td>\n      <td>3</td>\n    </tr>\n    <tr>\n      <th>2498</th>\n      <td>ZD-21925</td>\n      <td>2014</td>\n      <td>2017</td>\n      <td>61.440</td>\n      <td>1</td>\n    </tr>\n  </tbody>\n</table>\n<p>2499 rows × 5 columns</p>\n</div>"
     },
     "execution_count": 100,
     "metadata": {},
     "output_type": "execute_result"
    }
   ],
   "source": [
    "df_users"
   ]
  },
  {
   "cell_type": "code",
   "execution_count": 101,
   "metadata": {},
   "outputs": [],
   "source": [
    "def get_crosstab(df, value_column):\n",
    "    df_crosstab = pd.crosstab(df.customer_id, df.order_year, values=df[value_column], aggfunc=sum)\\\n",
    "        .reset_index()\n",
    "    df_crosstab = pd.merge(df_crosstab, df_first, how='inner', on='customer_id')\n",
    "    del df_crosstab['customer_id']\n",
    "    return df_crosstab"
   ]
  },
  {
   "cell_type": "code",
   "execution_count": 119,
   "metadata": {},
   "outputs": [],
   "source": [
    "def get_retention(df):\n",
    "    df_triangle = df.groupby(['first_order']).sum().reset_index()\n",
    "    df_triangle['Base'] = np.diag(df_triangle.iloc[:,1:])\n",
    "    df_retention = pd.DataFrame(df_triangle[['first_order', 'Base']])\n",
    "    df_retention.columns = ['Cohort', 'Base']\n",
    "\n",
    "    for col in df_triangle.columns[1:-1]:\n",
    "        df_retention[col] = round(df_triangle[col] / df_triangle['Base'], 3)\n",
    "\n",
    "    for i in range(2, len(df_retention.columns)):\n",
    "        df_retention.iloc[i-1:, i] = None\n",
    "        \n",
    "    return df_retention"
   ]
  },
  {
   "cell_type": "markdown",
   "metadata": {},
   "source": [
    "### Sales retention"
   ]
  },
  {
   "cell_type": "code",
   "execution_count": 120,
   "metadata": {},
   "outputs": [
    {
     "data": {
      "text/plain": "  Cohort         Base  2014   2015   2016   2017\n0   2014  484247.4981   1.0  0.754  0.939  1.101\n1   2015  105388.4962   NaN  1.000  0.944  1.250\n2   2016   54803.6200   NaN    NaN  1.000  1.111\n3   2017    7511.8050   NaN    NaN    NaN  1.000",
      "text/html": "<div>\n<style scoped>\n    .dataframe tbody tr th:only-of-type {\n        vertical-align: middle;\n    }\n\n    .dataframe tbody tr th {\n        vertical-align: top;\n    }\n\n    .dataframe thead th {\n        text-align: right;\n    }\n</style>\n<table border=\"1\" class=\"dataframe\">\n  <thead>\n    <tr style=\"text-align: right;\">\n      <th></th>\n      <th>Cohort</th>\n      <th>Base</th>\n      <th>2014</th>\n      <th>2015</th>\n      <th>2016</th>\n      <th>2017</th>\n    </tr>\n  </thead>\n  <tbody>\n    <tr>\n      <th>0</th>\n      <td>2014</td>\n      <td>484247.4981</td>\n      <td>1.0</td>\n      <td>0.754</td>\n      <td>0.939</td>\n      <td>1.101</td>\n    </tr>\n    <tr>\n      <th>1</th>\n      <td>2015</td>\n      <td>105388.4962</td>\n      <td>NaN</td>\n      <td>1.000</td>\n      <td>0.944</td>\n      <td>1.250</td>\n    </tr>\n    <tr>\n      <th>2</th>\n      <td>2016</td>\n      <td>54803.6200</td>\n      <td>NaN</td>\n      <td>NaN</td>\n      <td>1.000</td>\n      <td>1.111</td>\n    </tr>\n    <tr>\n      <th>3</th>\n      <td>2017</td>\n      <td>7511.8050</td>\n      <td>NaN</td>\n      <td>NaN</td>\n      <td>NaN</td>\n      <td>1.000</td>\n    </tr>\n  </tbody>\n</table>\n</div>"
     },
     "execution_count": 120,
     "metadata": {},
     "output_type": "execute_result"
    }
   ],
   "source": [
    "df_sales = get_retention(get_crosstab(df_users, 'sales'))\n",
    "df_sales"
   ]
  },
  {
   "cell_type": "markdown",
   "metadata": {},
   "source": [
    "### Transaction retention"
   ]
  },
  {
   "cell_type": "code",
   "execution_count": 105,
   "metadata": {},
   "outputs": [
    {
     "data": {
      "text/plain": "  Cohort   Base  2014   2015   2016   2017\n0   2014  969.0   1.0  0.833  1.028  1.288\n1   2015  231.0   NaN  1.000  0.931  1.268\n2   2016  104.0   NaN    NaN  1.000  1.221\n3   2017   19.0   NaN    NaN    NaN  1.000",
      "text/html": "<div>\n<style scoped>\n    .dataframe tbody tr th:only-of-type {\n        vertical-align: middle;\n    }\n\n    .dataframe tbody tr th {\n        vertical-align: top;\n    }\n\n    .dataframe thead th {\n        text-align: right;\n    }\n</style>\n<table border=\"1\" class=\"dataframe\">\n  <thead>\n    <tr style=\"text-align: right;\">\n      <th></th>\n      <th>Cohort</th>\n      <th>Base</th>\n      <th>2014</th>\n      <th>2015</th>\n      <th>2016</th>\n      <th>2017</th>\n    </tr>\n  </thead>\n  <tbody>\n    <tr>\n      <th>0</th>\n      <td>2014</td>\n      <td>969.0</td>\n      <td>1.0</td>\n      <td>0.833</td>\n      <td>1.028</td>\n      <td>1.288</td>\n    </tr>\n    <tr>\n      <th>1</th>\n      <td>2015</td>\n      <td>231.0</td>\n      <td>NaN</td>\n      <td>1.000</td>\n      <td>0.931</td>\n      <td>1.268</td>\n    </tr>\n    <tr>\n      <th>2</th>\n      <td>2016</td>\n      <td>104.0</td>\n      <td>NaN</td>\n      <td>NaN</td>\n      <td>1.000</td>\n      <td>1.221</td>\n    </tr>\n    <tr>\n      <th>3</th>\n      <td>2017</td>\n      <td>19.0</td>\n      <td>NaN</td>\n      <td>NaN</td>\n      <td>NaN</td>\n      <td>1.000</td>\n    </tr>\n  </tbody>\n</table>\n</div>"
     },
     "execution_count": 105,
     "metadata": {},
     "output_type": "execute_result"
    }
   ],
   "source": [
    "df_id = get_retention(get_crosstab(df_users, 'id'))\n",
    "df_id"
   ]
  },
  {
   "cell_type": "markdown",
   "metadata": {},
   "source": [
    "### Sales retention by segment"
   ]
  },
  {
   "cell_type": "code",
   "execution_count": 106,
   "metadata": {},
   "outputs": [
    {
     "name": "stdout",
     "output_type": "stream",
     "text": [
      "\n",
      "Segment: Consumer\n",
      "  Cohort         Base  2014   2015   2016   2017\n",
      "0   2014  266096.8126   1.0  0.789  0.818  0.906\n",
      "1   2015   56590.8551   NaN  1.000  0.832  0.817\n",
      "2   2016   32119.4550   NaN    NaN  1.000  1.229\n",
      "3   2017    4985.0760   NaN    NaN    NaN  1.000\n",
      "\n",
      "Segment: Corporate\n",
      "  Cohort         Base  2014   2015   2016   2017\n",
      "0   2014  128434.8737   1.0  0.778  1.237  1.367\n",
      "1   2015   28855.5195   NaN  1.000  1.043  1.944\n",
      "2   2016   18200.6230   NaN    NaN  1.000  0.462\n",
      "3   2017    1797.0810   NaN    NaN    NaN  1.000\n",
      "\n",
      "Segment: Home Office\n",
      "  Cohort        Base  2014   2015   2016   2017\n",
      "0   2014  89715.8118   1.0  0.616  0.874  1.296\n",
      "1   2015  19942.1216   NaN  1.000  1.120  1.475\n",
      "2   2016   4483.5420   NaN    NaN  1.000  2.905\n",
      "3   2017    729.6480   NaN    NaN    NaN  1.000\n"
     ]
    }
   ],
   "source": [
    "for segment in df_full.segment.unique():\n",
    "    print(f'\\nSegment: {segment}')\n",
    "    print(get_retention(get_crosstab(df_full[df_full.segment==segment], 'sales')))"
   ]
  },
  {
   "cell_type": "markdown",
   "metadata": {},
   "source": [
    "### Sales retention by ship_mode"
   ]
  },
  {
   "cell_type": "code",
   "execution_count": 107,
   "metadata": {},
   "outputs": [
    {
     "name": "stdout",
     "output_type": "stream",
     "text": [
      "\n",
      "Ship_mode: Standard\n",
      "  Cohort         Base  2014   2015   2016   2017\n",
      "0   2014  305621.3196   1.0  0.716  0.921  0.935\n",
      "1   2015   65723.8550   NaN  1.000  0.791  1.142\n",
      "2   2016   38855.4240   NaN    NaN  1.000  0.752\n",
      "3   2017    5644.8960   NaN    NaN    NaN  1.000\n",
      "\n",
      "Ship_mode: Same Day\n",
      "  Cohort       Base  2014   2015   2016   2017\n",
      "0   2014  17470.134   1.0  1.234  1.759  2.308\n",
      "1   2015   6050.375   NaN  1.000  0.581  1.136\n",
      "2   2016    257.040   NaN    NaN  1.000  6.163\n",
      "\n",
      "Ship_mode: First\n",
      "  Cohort        Base  2014   2015   2016   2017\n",
      "0   2014  59769.2645   1.0  0.997  1.010  1.590\n",
      "1   2015   9644.0606   NaN  1.000  1.632  2.143\n",
      "2   2016   6153.2850   NaN    NaN  1.000  3.814\n",
      "3   2017    955.7840   NaN    NaN    NaN  1.000\n",
      "\n",
      "Ship_mode: Second\n",
      "  Cohort         Base  2014   2015   2016   2017\n",
      "0   2014  101386.7800   1.0  0.642  0.811  1.105\n",
      "1   2015   23970.2056   NaN  1.000  1.180  1.216\n",
      "2   2016    9537.8710   NaN    NaN  1.000  0.697\n",
      "3   2017     911.1250   NaN    NaN    NaN  1.000\n"
     ]
    }
   ],
   "source": [
    "for ship_mode in df_full.ship_mode.unique():\n",
    "    print(f'\\nShip_mode: {ship_mode}')\n",
    "    print(get_retention(get_crosstab(df_full[df_full.ship_mode==ship_mode], 'sales')))"
   ]
  },
  {
   "cell_type": "markdown",
   "metadata": {},
   "source": [
    "### Transaction retention by segment"
   ]
  },
  {
   "cell_type": "code",
   "execution_count": 108,
   "metadata": {},
   "outputs": [
    {
     "name": "stdout",
     "output_type": "stream",
     "text": [
      "\n",
      "Segment: Consumer\n",
      "  Cohort        Base  2014   2015   2016   2017\n",
      "0   2014  70642071.0   1.0  0.817  0.952  1.253\n",
      "1   2015  14471087.0   NaN  1.000  0.872  1.214\n",
      "2   2016   7854869.0   NaN    NaN  1.000  1.192\n",
      "3   2017   1668887.0   NaN    NaN    NaN  1.000\n",
      "\n",
      "Segment: Corporate\n",
      "  Cohort        Base  2014   2015   2016   2017\n",
      "0   2014  38192114.0   1.0  0.838  1.142  1.277\n",
      "1   2015   9840039.0   NaN  1.000  0.927  1.301\n",
      "2   2016   4300655.0   NaN    NaN  1.000  1.029\n",
      "3   2017    680091.0   NaN    NaN    NaN  1.000\n",
      "\n",
      "Segment: Home Office\n",
      "  Cohort        Base  2014   2015   2016   2017\n",
      "0   2014  21004027.0   1.0  0.923  1.130  1.412\n",
      "1   2015   6489595.0   NaN  1.000  1.164  1.480\n",
      "2   2016   1879031.0   NaN    NaN  1.000  1.792\n",
      "3   2017    113558.0   NaN    NaN    NaN  1.000\n"
     ]
    }
   ],
   "source": [
    "for segment in df_full.segment.unique():\n",
    "    print(f'\\nSegment: {segment}')\n",
    "    print(get_retention(get_crosstab(df_full[df_full.segment==segment], 'id')))"
   ]
  },
  {
   "cell_type": "markdown",
   "metadata": {},
   "source": [
    "### Transaction retention by ship_mode"
   ]
  },
  {
   "cell_type": "code",
   "execution_count": 109,
   "metadata": {},
   "outputs": [
    {
     "name": "stdout",
     "output_type": "stream",
     "text": [
      "\n",
      "Ship_mode: Standard\n",
      "  Cohort        Base  2014   2015   2016   2017\n",
      "0   2014  78025074.0   1.0  0.853  1.010  1.228\n",
      "1   2015  18795613.0   NaN  1.000  0.961  1.314\n",
      "2   2016   8394298.0   NaN    NaN  1.000  1.228\n",
      "3   2017   1576322.0   NaN    NaN    NaN  1.000\n",
      "\n",
      "Ship_mode: Same Day\n",
      "  Cohort       Base  2014   2015   2016   2017\n",
      "0   2014  6454353.0   1.0  0.882  1.263  1.450\n",
      "1   2015  1348310.0   NaN  1.000  1.204  1.467\n",
      "2   2016   250587.0   NaN    NaN  1.000  2.904\n",
      "\n",
      "Ship_mode: First\n",
      "  Cohort        Base  2014   2015   2016   2017\n",
      "0   2014  19568821.0   1.0  0.787  1.113  1.454\n",
      "1   2015   4075405.0   NaN  1.000  1.239  1.582\n",
      "2   2016   2395808.0   NaN    NaN  1.000  1.322\n",
      "3   2017    500026.0   NaN    NaN    NaN  1.000\n",
      "\n",
      "Ship_mode: Second\n",
      "  Cohort        Base  2014   2015   2016   2017\n",
      "0   2014  25789964.0   1.0  0.831  1.002  1.293\n",
      "1   2015   6581393.0   NaN  1.000  0.695  1.042\n",
      "2   2016   2993862.0   NaN    NaN  1.000  0.987\n",
      "3   2017    386188.0   NaN    NaN    NaN  1.000\n"
     ]
    }
   ],
   "source": [
    "for ship_mode in df_full.ship_mode.unique():\n",
    "    print(f'\\nShip_mode: {ship_mode}')\n",
    "    print(get_retention(get_crosstab(df_full[df_full.ship_mode==ship_mode], 'id')))"
   ]
  },
  {
   "cell_type": "code",
   "execution_count": 109,
   "metadata": {},
   "outputs": [],
   "source": []
  },
  {
   "cell_type": "markdown",
   "metadata": {},
   "source": [
    "## Ответ\n",
    "#### 1. Тотально sales и transaction ретеншены 2017 лучше 2016\n",
    "#### 2. Но есть слабые когорты, где хуже: \n",
    "#### - Для sales-retention это:\n",
    "    - Segment: Consumer, first order=2015\n",
    "    - Ship_mode: Standard, first order=2014\n",
    "    - Ship_mode: Second, first order=2016\n",
    "#### - Для transaction-retention это:\n",
    "    - Segment: Consumer, first order=2015\n",
    "    - Segment: Corporate, first order=2015\n",
    "    - Ship_mode: Standard, first order=2015\n",
    "    - Ship_mode: Second, first order=2016\n",
    "####\n",
    "### Итого\n",
    "### Сильно проседают:\n",
    "### Сегмент Consumer\n",
    "### Способы доставки Standard, Second"
   ]
  },
  {
   "cell_type": "code",
   "execution_count": 128,
   "outputs": [],
   "source": [
    "df_new_customers = df_full.groupby('first_order')['id'].count()\n",
    "df_new_customers.columns = ['first_order', 'id']"
   ],
   "metadata": {
    "collapsed": false
   }
  },
  {
   "cell_type": "code",
   "execution_count": 129,
   "metadata": {},
   "outputs": [
    {
     "data": {
      "text/plain": "<AxesSubplot:xlabel='first_order'>"
     },
     "execution_count": 129,
     "metadata": {},
     "output_type": "execute_result"
    },
    {
     "data": {
      "text/plain": "<Figure size 432x288 with 1 Axes>",
      "image/png": "[encoded data removed]"
     },
     "metadata": {},
     "output_type": "display_data"
    }
   ],
   "source": [
    "df_new_customers.plot(x='first_order', y='id')"
   ]
  }
 ],
 "metadata": {
  "kernelspec": {
   "display_name": "Python 3",
   "language": "python",
   "name": "python3"
  },
  "language_info": {
   "codemirror_mode": {
    "name": "ipython",
    "version": 3
   },
   "file_extension": ".py",
   "mimetype": "text/x-python",
   "name": "python",
   "nbconvert_exporter": "python",
   "pygments_lexer": "ipython3",
   "version": "3.8.6"
  }
 },
 "nbformat": 4,
 "nbformat_minor": 4
}
